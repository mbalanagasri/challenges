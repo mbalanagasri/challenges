{
 "cells": [
  {
   "cell_type": "code",
   "execution_count": 2,
   "metadata": {},
   "outputs": [
    {
     "name": "stdout",
     "output_type": "stream",
     "text": [
      "True\n",
      "False\n"
     ]
    }
   ],
   "source": [
    "class Point:\n",
    "    def __init__(self, x, y):\n",
    "        self.x = x\n",
    "        self.y = y\n",
    "\n",
    "def is_within_polygon(polygon, point):\n",
    "    A = []\n",
    "    B = []\n",
    "    C = []  \n",
    "    for i in range(len(polygon)):\n",
    "        p1 = polygon[i]\n",
    "        p2 = polygon[(i + 1) % len(polygon)]\n",
    "        \n",
    "        # calculate A, B and C\n",
    "        a = -(p2.y - p1.y)\n",
    "        b = p2.x - p1.x\n",
    "        c = -(a * p1.x + b * p1.y)\n",
    "\n",
    "        A.append(a)\n",
    "        B.append(b)\n",
    "        C.append(c)\n",
    "\n",
    "    D = []\n",
    "    for i in range(len(A)):\n",
    "        d = A[i] * point.x + B[i] * point.y + C[i]\n",
    "        D.append(d)\n",
    "\n",
    "    t1 = all(d >= 0 for d in D)\n",
    "    t2 = all(d <= 0 for d in D)\n",
    "    return t1 or t2\n",
    "\n",
    "if __name__ == '__main__':\n",
    "    polygon = [Point(0, 0), Point(5, 0), Point(6, 7), Point(2, 3), Point(0, 4)]\n",
    "    p1 = Point(1, 1)\n",
    "    print (is_within_polygon(polygon, p1)) # returns True\n",
    "    p2 = Point(6, 2)\n",
    "    print (is_within_polygon(polygon, p2)) # returns False"
   ]
  },
  {
   "cell_type": "code",
   "execution_count": null,
   "metadata": {},
   "outputs": [],
   "source": []
  }
 ],
 "metadata": {
  "kernelspec": {
   "display_name": "Python 3",
   "language": "python",
   "name": "python3"
  },
  "language_info": {
   "codemirror_mode": {
    "name": "ipython",
    "version": 3
   },
   "file_extension": ".py",
   "mimetype": "text/x-python",
   "name": "python",
   "nbconvert_exporter": "python",
   "pygments_lexer": "ipython3",
   "version": "3.7.3"
  }
 },
 "nbformat": 4,
 "nbformat_minor": 4
}
