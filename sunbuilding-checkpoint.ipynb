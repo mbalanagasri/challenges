{
 "cells": [
  {
   "cell_type": "code",
   "execution_count": 8,
   "metadata": {},
   "outputs": [
    {
     "name": "stdout",
     "output_type": "stream",
     "text": [
      "Enter number of buildings\n",
      "1\n",
      "Enter coourdinates of building\n",
      "\n",
      "4\n",
      "0\n",
      "4\n",
      "-5\n",
      "7\n",
      "-5\n",
      "7\n",
      "0\n",
      "Enter the sun coordinates\n",
      "\n",
      "1\n",
      "1\n",
      "8.0\n"
     ]
    }
   ],
   "source": [
    "import math\n",
    "data= [[[0,0],[0,0],[0,0],[0,0]],[[0,0],[0,0],[0,0],[0,0]]]\n",
    "def distance(p1,p2):\n",
    "    result = (float)(((p2[0]-p1[0])**2)+((p2[1]-p1[1])**2))\n",
    "    result = math.sqrt(result)\n",
    "    return result\n",
    "\n",
    "def getY(m,x,s):\n",
    "    result = (m*(x-s[0]))+s[1]\n",
    "    return result\n",
    "\n",
    "n = int(input(\"Enter number of buildings\\n\"))\n",
    "print(\"Enter coourdinates of building\\n\")\n",
    "for i in range(n):\n",
    "    for j in range(4):\n",
    "        for k in range(2):\n",
    "            data[i][j][k] = float(input())\n",
    "\n",
    "print(\"Enter the sun coordinates\\n\")\n",
    "s=[0,0]\n",
    "for i in range(2):\n",
    "    s[i] = float(input())\n",
    "\n",
    "result = 0.0\n",
    "\n",
    "result = result + distance(data[0][0],data[0][1]) + distance(data[0][0],data[0][3])\n",
    "\n",
    "if(n==2):\n",
    "    x = data[1][0][0]\n",
    "    m = (float)(data[0][3][1]-s[1])/(data[0][3][0]-s[0])\n",
    "    y = getY(m,x,s)\n",
    "    dis1 = distance([x,y],data[1][0])\n",
    "    dis2 = distance(data[1][0],data[1][3])\n",
    "    result = result+dis1+dis2\n",
    "\n",
    "print(result)\n",
    "\n"
   ]
  },
  {
   "cell_type": "code",
   "execution_count": null,
   "metadata": {},
   "outputs": [],
   "source": []
  }
 ],
 "metadata": {
  "kernelspec": {
   "display_name": "Python 3",
   "language": "python",
   "name": "python3"
  }
 },
 "nbformat": 4,
 "nbformat_minor": 4
}
